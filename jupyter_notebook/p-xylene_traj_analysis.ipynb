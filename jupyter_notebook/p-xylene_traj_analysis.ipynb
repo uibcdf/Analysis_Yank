{
 "cells": [
  {
   "cell_type": "code",
   "execution_count": 1,
   "metadata": {},
   "outputs": [],
   "source": [
    "import yank.analyze as yk\n",
    "import matplotlib as mt\n",
    "from matplotlib import pyplot as plt\n",
    "from matplotlib import pylab\n",
    "from mpl_toolkits.mplot3d import Axes3D\n",
    "import scipy.cluster.hierarchy\n",
    "from scipy.spatial.distance import squareform\n",
    "from __future__ import print_function\n",
    "from numpy import dot, sqrt\n",
    "from numpy.linalg import eigvalsh\n",
    "#from sklearn.decomposition import PCA\n",
    "import pandas as pnd\n",
    "import mdtraj as md\n",
    "import nglview as nv\n",
    "import seaborn as sb\n",
    "import numpy as np\n",
    "import os as os"
   ]
  },
  {
   "cell_type": "code",
   "execution_count": 2,
   "metadata": {},
   "outputs": [],
   "source": [
    "# Matplotlib options\n",
    "%matplotlib inline\n",
    "mt.style.use('ggplot')\n",
    "pylab.rcParams['figure.figsize'] = 20, 12"
   ]
  },
  {
   "cell_type": "markdown",
   "metadata": {},
   "source": [
    "## Set the path for your experiment\n",
    "\n",
    "Path is the direcrtory where the file analysis.yaml and complex.nc files are located."
   ]
  },
  {
   "cell_type": "code",
   "execution_count": null,
   "metadata": {},
   "outputs": [],
   "source": [
    "os.chdir ('/DATA/projects/Testing_Yank/binding/t4-lysozyme/p-xylene-explicit-output/experiments')"
   ]
  },
  {
   "cell_type": "markdown",
   "metadata": {},
   "source": [
    "# Save HDF5 trajectories for each replica\n",
    "\n",
    "Comment this part of the script once you saved your trajectories if you pretend to restart the kernel. Save trajectory files usually takes several time (depending on the number of the interations of your simulation). Be patient!"
   ]
  },
  {
   "cell_type": "code",
   "execution_count": null,
   "metadata": {},
   "outputs": [],
   "source": [
    "#n_replica= np.arange (25) #Replace this number with the total of replicas you have in your experiment\n",
    "#for i in n_replica:\n",
    "    #index=str(i)\n",
    "    #result= yk.extract_trajectory ('complex.nc',nc_checkpoint_file='complex_checkpoint.nc', replica_index=index, start_frame=0, end_frame=-1, keep_solvent=False)\n",
    "    #save_file= ('replica_trajectories/'+'replica_'+index+'.h5') #this line needs a replica_trajectories folder in 'experiments' path\n",
    "    #result.save_hdf5 (save_file) #save in hdf5 format, but it can be replaced by other format depending on your interest, you can check mdtraj manual for more information"
   ]
  },
  {
   "cell_type": "markdown",
   "metadata": {},
   "source": [
    "## Set the path for replica trajectory files\n",
    "This folder is the location where you saved the trajectories of the replicas of your simulation."
   ]
  },
  {
   "cell_type": "code",
   "execution_count": 3,
   "metadata": {},
   "outputs": [],
   "source": [
    "os.chdir ('/DATA/projects/Testing_Yank/binding/t4-lysozyme/p-xylene-explicit-output/experiments/replica_trajectories')"
   ]
  },
  {
   "cell_type": "markdown",
   "metadata": {},
   "source": [
    "# Allow to user select a replica to visualize"
   ]
  },
  {
   "cell_type": "code",
   "execution_count": null,
   "metadata": {},
   "outputs": [],
   "source": [
    "n_replica= np.arange (25)\n",
    "for i in n_replica:\n",
    "    index=str(input('Insert a replica number, is a int from 0 to 24:'))\n",
    "    if isinstance (index, str):\n",
    "            replica=('replica_'+index+'.h5')\n",
    "            load_replica= md.load_hdf5 (replica)\n",
    "            print (load_replica, 'number_of_replica:',index)\n",
    "            break\n",
    "    else: \n",
    "            print ('This is not a valid replica number, try another')\n",
    "            \n",
    "view= nv.show_mdtraj (load_replica) #Shows the selected replica\n",
    "view.clear_representations ()\n",
    "view.add_ball_and_stick (selection='MOL', color='red', aspectRatio='10')\n",
    "view.add_cartoon (selection=\"protein\")\n",
    "view"
   ]
  },
  {
   "cell_type": "markdown",
   "metadata": {},
   "source": [
    "# Load all replicas as new variables for analysis"
   ]
  },
  {
   "cell_type": "code",
   "execution_count": null,
   "metadata": {},
   "outputs": [],
   "source": [
    "traj={} #dictionary to create each replica as variable\n",
    "n_replica= np.arange (25)\n",
    "for i in n_replica:\n",
    "    index=str(i)\n",
    "    load=('replica_'+index+'.h5')\n",
    "    trayectories=traj['{0}'.format(i)]= md.load_hdf5 (load)"
   ]
  },
  {
   "cell_type": "code",
   "execution_count": null,
   "metadata": {},
   "outputs": [],
   "source": [
    "traj"
   ]
  },
  {
   "cell_type": "markdown",
   "metadata": {},
   "source": [
    "## List of residues of the system\n",
    "\n",
    "Is not necesary, but it could be useful"
   ]
  },
  {
   "cell_type": "code",
   "execution_count": null,
   "metadata": {},
   "outputs": [],
   "source": [
    "print ('List of residues in this experiment:',[residue for residue in traj['0'].topology.residues])"
   ]
  },
  {
   "cell_type": "markdown",
   "metadata": {},
   "source": [
    "## Use the replica 0 trajectory to find ligand array\n",
    "\n",
    "Again, is not necesary, but it could be useful"
   ]
  },
  {
   "cell_type": "code",
   "execution_count": null,
   "metadata": {},
   "outputs": [],
   "source": [
    "ligand=traj['0'].topology.select ('resid 162') # ID: 162 corresponds with ligand numeration in topology of the system\n",
    "print(ligand) #Shows an array with number of atoms for the ligand"
   ]
  },
  {
   "cell_type": "markdown",
   "metadata": {},
   "source": [
    "# Define a variable for the ligand trayectory in each replica"
   ]
  },
  {
   "cell_type": "code",
   "execution_count": 4,
   "metadata": {},
   "outputs": [],
   "source": [
    "p_xylene={} #dictionary to create p-xylene trayectories for each replica\n",
    "n_replica= np.arange (25)\n",
    "for i in n_replica:\n",
    "    index=str(i)\n",
    "    load=('replica_'+index+'.h5')\n",
    "    trayectories=p_xylene['{0}'.format(i)]= md.load_hdf5 (load, atom_indices=[2603,2604,2605,2606,2607,2608,2609,2610,2611,2612,2613,2614,2615,2616,2617,2618,2619,2620])"
   ]
  },
  {
   "cell_type": "code",
   "execution_count": null,
   "metadata": {},
   "outputs": [],
   "source": [
    "p_xylene"
   ]
  },
  {
   "cell_type": "markdown",
   "metadata": {},
   "source": [
    "## Create a clustering plot for two replicas\n",
    "\n",
    "replica 1 and 25"
   ]
  },
  {
   "cell_type": "code",
   "execution_count": null,
   "metadata": {},
   "outputs": [],
   "source": [
    "distances = np.empty ((p_xylene['0'].n_frames, p_xylene['0'].n_frames))\n",
    "for i in range(p_xylene['0'].n_frames):\n",
    "    distances[i] = md.rmsd(p_xylene['0'],p_xylene['0'], i)\n",
    "print('Max pairwise rmsd: %f nm' % np.max(distances))"
   ]
  },
  {
   "cell_type": "code",
   "execution_count": null,
   "metadata": {},
   "outputs": [],
   "source": [
    "reduced_distances = squareform(distances, checks=False)\n",
    "linkage = scipy.cluster.hierarchy.linkage(reduced_distances, method='average')"
   ]
  },
  {
   "cell_type": "code",
   "execution_count": null,
   "metadata": {},
   "outputs": [],
   "source": [
    "plt.title('RMSD Average linkage hierarchical clustering')\n",
    "plot = scipy.cluster.hierarchy.dendrogram(linkage, no_labels=True, count_sort='descendent')"
   ]
  },
  {
   "cell_type": "code",
   "execution_count": null,
   "metadata": {},
   "outputs": [],
   "source": [
    "rmsd=md.rmsd (p_xylene['0'],p_xylene['0'],precentered=True)\n",
    "plt.plot(rmsd)\n",
    "plt.xlabel(\"saved frame\")\n",
    "plt.ylabel(\"RMSD (A)\")\n",
    "plt.show()"
   ]
  },
  {
   "cell_type": "markdown",
   "metadata": {},
   "source": [
    "# Calculating gemetric center for p-xylene"
   ]
  },
  {
   "cell_type": "markdown",
   "metadata": {},
   "source": [
    "Lets compute all pairwise rmsds between conformations."
   ]
  },
  {
   "cell_type": "code",
   "execution_count": 5,
   "metadata": {},
   "outputs": [],
   "source": [
    "atom_indices = [a.index for a in p_xylene['0'].topology.atoms if a.element.symbol != 'H']\n",
    "distances = np.empty((p_xylene['0'].n_frames, p_xylene['0'].n_frames))\n",
    "for i in range(p_xylene['0'].n_frames):\n",
    "    distances[i] = md.rmsd(p_xylene['0'], p_xylene['0'], i, atom_indices=atom_indices)"
   ]
  },
  {
   "cell_type": "markdown",
   "metadata": {},
   "source": [
    "The algorithim we're going to use is relatively simple:\n",
    "\n",
    "    Compute all of the pairwise RMSDs between the conformations. This is O(N^2), so it's not going to scale extremely well to large datasets.\n",
    "    Transform these distances into similarity scores. Our similarities will calculated as\n",
    "    sij=e−β⋅dij/dscale\n",
    "\n",
    "where sij is the pairwise similarity, dij is the pairwise distance, and dscale is the standard deviation of the values of d\n",
    ", to make the computation scale invariant.\n",
    "Then, we define the centroid as\n",
    "\n",
    "argmaxi∑jsij\n",
    "\n",
    "Using β=1\n",
    ", this is implemented with the following code:"
   ]
  },
  {
   "cell_type": "code",
   "execution_count": 6,
   "metadata": {},
   "outputs": [
    {
     "name": "stdout",
     "output_type": "stream",
     "text": [
      "200\n"
     ]
    }
   ],
   "source": [
    "beta = 1\n",
    "index = np.exp(-beta*distances / distances.std()).sum(axis=1).argmax()\n",
    "print(index)"
   ]
  },
  {
   "cell_type": "code",
   "execution_count": 10,
   "metadata": {},
   "outputs": [
    {
     "name": "stdout",
     "output_type": "stream",
     "text": [
      "[[[3.0336459 3.6410975 3.0772035]\n",
      "  [3.1104593 3.6125329 2.9663253]\n",
      "  [2.8394556 3.5439138 2.9688373]\n",
      "  [2.9181948 3.5151231 2.8581152]\n",
      "  [2.8962576 3.6101913 3.0805566]\n",
      "  [3.0544853 3.5521636 2.8507893]\n",
      "  [2.8113923 3.6451108 3.1973872]\n",
      "  [3.141011  3.5124547 2.730598 ]\n",
      "  [3.0753136 3.697058  3.1604273]\n",
      "  [3.2159078 3.6379318 2.960898 ]\n",
      "  [2.73582   3.5116675 2.9725528]\n",
      "  [2.8757265 3.4710147 2.7684221]\n",
      "  [2.7501514 3.7279155 3.1596117]\n",
      "  [2.7536438 3.5538888 3.2168224]\n",
      "  [2.8654428 3.670476  3.2894158]\n",
      "  [3.1026192 3.5670693 2.6435497]\n",
      "  [3.2436213 3.5467312 2.748772 ]\n",
      "  [3.136815  3.4055831 2.7062058]]]\n"
     ]
    }
   ],
   "source": [
    "centroid = p_xylene['0'][index]\n",
    "xyz=centroid.xyz\n",
    "print (xyz)"
   ]
  },
  {
   "cell_type": "code",
   "execution_count": 14,
   "metadata": {},
   "outputs": [
    {
     "data": {
      "text/plain": [
       "[array([3.0336459, 3.6410975, 3.0772035], dtype=float32)]"
      ]
     },
     "execution_count": 14,
     "metadata": {},
     "output_type": "execute_result"
    }
   ],
   "source": [
    "xyz_list = [x[:,0,:] for x in xyz]\n",
    "xyz_list"
   ]
  },
  {
   "cell_type": "code",
   "execution_count": null,
   "metadata": {},
   "outputs": [],
   "source": []
  },
  {
   "cell_type": "code",
   "execution_count": null,
   "metadata": {},
   "outputs": [],
   "source": [
    "fig = plt.figure()\n",
    "ax = fig.add_subplot(111, projection='3d')\n",
    "ax.scatter (xyz, c='b', marker='o')\n",
    "ax.set_xlabel ('x axis')\n",
    "ax.set_ylabel ('y axis')\n",
    "ax.set_zlabel ('z axis')"
   ]
  },
  {
   "cell_type": "code",
   "execution_count": null,
   "metadata": {},
   "outputs": [],
   "source": [
    "plt.plot(centroid.xyz)\n",
    "plt.xlabel(\"saved frame\")\n",
    "plt.ylabel(\"RMSD (A)\")\n",
    "plt.show()"
   ]
  },
  {
   "cell_type": "code",
   "execution_count": null,
   "metadata": {},
   "outputs": [],
   "source": []
  },
  {
   "cell_type": "code",
   "execution_count": null,
   "metadata": {},
   "outputs": [],
   "source": []
  },
  {
   "cell_type": "code",
   "execution_count": null,
   "metadata": {},
   "outputs": [],
   "source": [
    "fw=p_xylene['0'].xyz\n",
    "print (fw)"
   ]
  },
  {
   "cell_type": "code",
   "execution_count": null,
   "metadata": {},
   "outputs": [],
   "source": [
    "fig = plt.figure()\n",
    "ax = fig.add_subplot(111, projection='3d')\n",
    "ax.scatter (fw, c='b', marker='o')\n",
    "ax.set_xlabel ('x axis')\n",
    "ax.set_ylabel ('y axis')\n",
    "ax.set_zlabel ('z axis')"
   ]
  },
  {
   "cell_type": "code",
   "execution_count": null,
   "metadata": {},
   "outputs": [],
   "source": []
  },
  {
   "cell_type": "code",
   "execution_count": null,
   "metadata": {},
   "outputs": [],
   "source": []
  }
 ],
 "metadata": {
  "kernelspec": {
   "display_name": "Python 3",
   "language": "python",
   "name": "python3"
  },
  "language_info": {
   "codemirror_mode": {
    "name": "ipython",
    "version": 3
   },
   "file_extension": ".py",
   "mimetype": "text/x-python",
   "name": "python",
   "nbconvert_exporter": "python",
   "pygments_lexer": "ipython3",
   "version": "3.6.5"
  }
 },
 "nbformat": 4,
 "nbformat_minor": 2
}
