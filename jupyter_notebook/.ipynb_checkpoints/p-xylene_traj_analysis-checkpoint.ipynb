{
 "cells": [
  {
   "cell_type": "code",
   "execution_count": 1,
   "metadata": {},
   "outputs": [],
   "source": [
    "import yank.analyze as yk\n",
    "import matplotlib as mt\n",
    "from matplotlib import pyplot as plt\n",
    "from matplotlib import pylab\n",
    "from mpl_toolkits.mplot3d import Axes3D\n",
    "import scipy.cluster.hierarchy\n",
    "from scipy.spatial.distance import squareform\n",
    "from __future__ import print_function\n",
    "from numpy import dot, sqrt\n",
    "from numpy.linalg import eigvalsh\n",
    "from sklearn.cluster import DBSCAN\n",
    "from sklearn import metrics\n",
    "from sklearn.datasets.samples_generator import make_blobs\n",
    "from sklearn.preprocessing import StandardScaler\n",
    "import pandas as pnd\n",
    "import mdtraj as md\n",
    "import nglview as nv\n",
    "import seaborn as sb\n",
    "import numpy as np\n",
    "import os as os\n",
    "\n",
    "# Matplotlib options\n",
    "%matplotlib inline\n",
    "mt.style.use('ggplot')\n",
    "pylab.rcParams['figure.figsize'] = 20, 12"
   ]
  },
  {
   "cell_type": "markdown",
   "metadata": {},
   "source": [
    "## Set the path for your experiment\n",
    "\n",
    "Path is the direcrtory where the file analysis.yaml and complex.nc files are located."
   ]
  },
  {
   "cell_type": "code",
   "execution_count": null,
   "metadata": {},
   "outputs": [],
   "source": [
    "os.chdir ('/DATA/projects/Testing_Yank/binding/t4-lysozyme/p-xylene-explicit-output/experiments')"
   ]
  },
  {
   "cell_type": "markdown",
   "metadata": {},
   "source": [
    "# Save HDF5 trajectories for each replica\n",
    "\n",
    "Comment this part of the script once you saved your trajectories if you pretend to restart the kernel. Save trajectory files usually takes several time (depending on the number of the interations of your simulation). Be patient!"
   ]
  },
  {
   "cell_type": "code",
   "execution_count": null,
   "metadata": {},
   "outputs": [],
   "source": [
    "#n_replica= np.arange (25) #Replace this number with the total of replicas you have in your experiment\n",
    "#for i in n_replica:\n",
    "    #index=str(i)\n",
    "    #result= yk.extract_trajectory ('complex.nc',nc_checkpoint_file='complex_checkpoint.nc', replica_index=index, start_frame=0, end_frame=-1, keep_solvent=False)\n",
    "    #save_file= ('replica_trajectories/'+'replica_'+index+'.h5') #this line needs a replica_trajectories folder in 'experiments' path\n",
    "    #result.save_hdf5 (save_file) #save in hdf5 format, but it can be replaced by other format depending on your interest, you can check mdtraj manual for more information"
   ]
  },
  {
   "cell_type": "markdown",
   "metadata": {},
   "source": [
    "## Set the path for replica trajectory files\n",
    "This folder is the location where you saved the trajectories of the replicas of your simulation."
   ]
  },
  {
   "cell_type": "code",
   "execution_count": 2,
   "metadata": {},
   "outputs": [],
   "source": [
    "os.chdir ('/DATA/projects/Testing_Yank/binding/t4-lysozyme/p-xylene-explicit-output/experiments/replica_trajectories')"
   ]
  },
  {
   "cell_type": "markdown",
   "metadata": {},
   "source": [
    "# Allow to user select a replica to visualize"
   ]
  },
  {
   "cell_type": "code",
   "execution_count": null,
   "metadata": {},
   "outputs": [],
   "source": [
    "n_replica= np.arange (25)\n",
    "for i in n_replica:\n",
    "    index=str(input('Insert a replica number, is a int from 0 to 24:'))\n",
    "    if isinstance (index, str):\n",
    "            replica=('replica_'+index+'.h5')\n",
    "            load_replica= md.load_hdf5 (replica)\n",
    "            print (load_replica, 'number_of_replica:',index)\n",
    "            break\n",
    "    else: \n",
    "            print ('This is not a valid replica number, try another')\n",
    "            \n",
    "view= nv.show_mdtraj (load_replica) #Shows the selected replica\n",
    "view.clear_representations ()\n",
    "view.add_ball_and_stick (selection='MOL', color='red', aspectRatio='10')\n",
    "view.add_cartoon (selection=\"protein\")\n",
    "view"
   ]
  },
  {
   "cell_type": "markdown",
   "metadata": {},
   "source": [
    "# Load all replicas as new variables for analysis"
   ]
  },
  {
   "cell_type": "code",
   "execution_count": 3,
   "metadata": {},
   "outputs": [],
   "source": [
    "traj={} #dictionary to create each replica as variable\n",
    "n_replica= np.arange (25)\n",
    "for i in n_replica:\n",
    "    index=str(i)\n",
    "    load=('replica_'+index+'.h5')\n",
    "    trayectories=traj['{0}'.format(i)]= md.load_hdf5 (load)"
   ]
  },
  {
   "cell_type": "code",
   "execution_count": 4,
   "metadata": {},
   "outputs": [
    {
     "name": "stdout",
     "output_type": "stream",
     "text": [
      "25\n"
     ]
    }
   ],
   "source": [
    "print (len(traj))"
   ]
  },
  {
   "cell_type": "markdown",
   "metadata": {},
   "source": [
    "## List of residues of the system\n",
    "\n",
    "Is not necesary, but it could be useful"
   ]
  },
  {
   "cell_type": "code",
   "execution_count": null,
   "metadata": {},
   "outputs": [],
   "source": [
    "print ('List of residues in this experiment:',[residue for residue in traj['0'].topology.residues])"
   ]
  },
  {
   "cell_type": "markdown",
   "metadata": {},
   "source": [
    "## Use the replica 0 trajectory to find ligand array\n",
    "\n",
    "Again, is not necesary, but it could be useful"
   ]
  },
  {
   "cell_type": "code",
   "execution_count": null,
   "metadata": {},
   "outputs": [],
   "source": [
    "ligand=traj['0'].topology.select ('resid 162') # ID: 162 corresponds with ligand numeration in topology of the system\n",
    "print(ligand) #Shows an array with number of atoms for the ligand"
   ]
  },
  {
   "cell_type": "markdown",
   "metadata": {},
   "source": [
    "# Define a variable for the ligand trayectory in each replica"
   ]
  },
  {
   "cell_type": "code",
   "execution_count": 5,
   "metadata": {},
   "outputs": [],
   "source": [
    "p_xylene={} #dictionary to create p-xylene trayectories for each replica\n",
    "n_replica= np.arange (25)\n",
    "for i in n_replica:\n",
    "    index=str(i)\n",
    "    load=('replica_'+index+'.h5')\n",
    "    trayectories=p_xylene['{0}'.format(i)]= md.load_hdf5 (load, atom_indices=[2603,2604,2605,2606,2607,2608,2609,2610,2611,2612,2613,2614,2615,2616,2617,2618,2619,2620])"
   ]
  },
  {
   "cell_type": "code",
   "execution_count": 6,
   "metadata": {},
   "outputs": [
    {
     "name": "stdout",
     "output_type": "stream",
     "text": [
      "25\n"
     ]
    }
   ],
   "source": [
    "print (len (p_xylene))"
   ]
  },
  {
   "cell_type": "markdown",
   "metadata": {},
   "source": [
    "## Density-Based Spatial Clustering of Applications with Noise\n",
    "Finds core samples of high density and expands clusters from them. Good for data which contains clusters of similar density."
   ]
  },
  {
   "cell_type": "code",
   "execution_count": null,
   "metadata": {},
   "outputs": [],
   "source": [
    "#centroid={}\n",
    "#lig= p_xylene['0']\n",
    "#atom_indices = [a.index for a in lig.topology.atoms if a.element.symbol != 'H']\n",
    "#distances = np.empty((lig.n_frames, lig.n_frames))\n",
    "#for i in range(lig.n_frames):\n",
    "    #distances[i] = md.rmsd(lig, lig, i, atom_indices=atom_indices)\n",
    "    #beta = 1\n",
    "    #index = np.exp(-beta*distances / distances.std()).sum(axis=1).argmax()  \n",
    "    #centroids =centroid['{0}'.format(i)]=lig[index]"
   ]
  },
  {
   "cell_type": "code",
   "execution_count": 7,
   "metadata": {},
   "outputs": [
    {
     "name": "stdout",
     "output_type": "stream",
     "text": [
      "replica 1 (500, 'centers of mass')\n",
      "replica 2 (500, 'centers of mass')\n",
      "replica 3 (500, 'centers of mass')\n",
      "replica 4 (500, 'centers of mass')\n",
      "replica 5 (500, 'centers of mass')\n",
      "replica 6 (500, 'centers of mass')\n",
      "replica 7 (500, 'centers of mass')\n",
      "replica 8 (500, 'centers of mass')\n",
      "replica 9 (500, 'centers of mass')\n",
      "replica 10 (500, 'centers of mass')\n",
      "replica 11 (500, 'centers of mass')\n",
      "replica 12 (500, 'centers of mass')\n",
      "replica 13 (500, 'centers of mass')\n",
      "replica 14 (500, 'centers of mass')\n",
      "replica 15 (500, 'centers of mass')\n",
      "replica 16 (500, 'centers of mass')\n",
      "replica 17 (500, 'centers of mass')\n",
      "replica 18 (500, 'centers of mass')\n",
      "replica 19 (500, 'centers of mass')\n",
      "replica 20 (500, 'centers of mass')\n",
      "replica 21 (500, 'centers of mass')\n",
      "replica 22 (500, 'centers of mass')\n",
      "replica 23 (500, 'centers of mass')\n",
      "replica 24 (500, 'centers of mass')\n",
      "replica 25 (500, 'centers of mass')\n"
     ]
    }
   ],
   "source": [
    "com={}\n",
    "for i in p_xylene:\n",
    "    index=str(i)\n",
    "    center=md.Trajectory.center_coordinates (p_xylene[index])\n",
    "    fit=center.superpose (center, frame=0)\n",
    "    center_of_mass=com['{0}',format(i)]=md.compute_center_of_mass (fit)\n",
    "    print ('replica',(len(com)),(len(center_of_mass), 'centers of mass'))"
   ]
  },
  {
   "cell_type": "code",
   "execution_count": 10,
   "metadata": {},
   "outputs": [
    {
     "name": "stdout",
     "output_type": "stream",
     "text": [
      "replica: 0\n",
      "Estimated number of clusters: 3\n",
      "Homogeneity: 0.997\n",
      "Completeness: 0.978\n",
      "V-measure: 0.988\n",
      "Adjusted Rand Index: 0.994\n",
      "Adjusted Mutual Information: 0.978\n",
      "Silhouette Coefficient: 0.779\n",
      "\n",
      "replica: 1\n",
      "Estimated number of clusters: 3\n",
      "Homogeneity: 1.000\n",
      "Completeness: 0.989\n",
      "V-measure: 0.994\n",
      "Adjusted Rand Index: 0.997\n",
      "Adjusted Mutual Information: 0.989\n",
      "Silhouette Coefficient: 0.749\n",
      "\n",
      "replica: 2\n",
      "Estimated number of clusters: 3\n",
      "Homogeneity: 0.581\n",
      "Completeness: 0.933\n",
      "V-measure: 0.716\n",
      "Adjusted Rand Index: 0.566\n",
      "Adjusted Mutual Information: 0.578\n",
      "Silhouette Coefficient: 0.450\n",
      "\n",
      "replica: 3\n",
      "Estimated number of clusters: 3\n",
      "Homogeneity: 0.990\n",
      "Completeness: 0.951\n",
      "V-measure: 0.971\n",
      "Adjusted Rand Index: 0.985\n",
      "Adjusted Mutual Information: 0.951\n",
      "Silhouette Coefficient: 0.852\n",
      "\n",
      "replica: 4\n",
      "Estimated number of clusters: 1\n",
      "Homogeneity: 0.002\n",
      "Completeness: 0.153\n",
      "V-measure: 0.004\n",
      "Adjusted Rand Index: 0.000\n",
      "Adjusted Mutual Information: 0.000\n",
      "Silhouette Coefficient: 0.220\n",
      "\n",
      "replica: 5\n",
      "Estimated number of clusters: 2\n",
      "Homogeneity: 0.008\n",
      "Completeness: 0.131\n",
      "V-measure: 0.014\n",
      "Adjusted Rand Index: 0.000\n",
      "Adjusted Mutual Information: 0.003\n",
      "Silhouette Coefficient: -0.002\n",
      "\n",
      "replica: 6\n",
      "Estimated number of clusters: 1\n",
      "Homogeneity: 0.001\n",
      "Completeness: 0.063\n",
      "V-measure: 0.003\n",
      "Adjusted Rand Index: -0.000\n",
      "Adjusted Mutual Information: -0.001\n",
      "Silhouette Coefficient: 0.266\n",
      "\n",
      "replica: 7\n",
      "Estimated number of clusters: 3\n",
      "Homogeneity: 0.997\n",
      "Completeness: 0.970\n",
      "V-measure: 0.983\n",
      "Adjusted Rand Index: 0.991\n",
      "Adjusted Mutual Information: 0.970\n",
      "Silhouette Coefficient: 0.696\n",
      "\n",
      "replica: 8\n",
      "Estimated number of clusters: 3\n",
      "Homogeneity: 0.997\n",
      "Completeness: 0.978\n",
      "V-measure: 0.988\n",
      "Adjusted Rand Index: 0.994\n",
      "Adjusted Mutual Information: 0.978\n",
      "Silhouette Coefficient: 0.826\n",
      "\n",
      "replica: 9\n",
      "Estimated number of clusters: 2\n",
      "Homogeneity: 0.576\n",
      "Completeness: 0.945\n",
      "V-measure: 0.716\n",
      "Adjusted Rand Index: 0.567\n",
      "Adjusted Mutual Information: 0.575\n",
      "Silhouette Coefficient: 0.490\n",
      "\n",
      "replica: 10\n",
      "Estimated number of clusters: 3\n",
      "Homogeneity: 0.997\n",
      "Completeness: 0.970\n",
      "V-measure: 0.983\n",
      "Adjusted Rand Index: 0.991\n",
      "Adjusted Mutual Information: 0.970\n",
      "Silhouette Coefficient: 0.724\n",
      "\n",
      "replica: 11\n",
      "Estimated number of clusters: 2\n",
      "Homogeneity: 0.580\n",
      "Completeness: 0.981\n",
      "V-measure: 0.729\n",
      "Adjusted Rand Index: 0.568\n",
      "Adjusted Mutual Information: 0.578\n",
      "Silhouette Coefficient: 0.593\n",
      "\n",
      "replica: 12\n",
      "Estimated number of clusters: 3\n",
      "Homogeneity: 1.000\n",
      "Completeness: 0.989\n",
      "V-measure: 0.994\n",
      "Adjusted Rand Index: 0.997\n",
      "Adjusted Mutual Information: 0.989\n",
      "Silhouette Coefficient: 0.674\n",
      "\n",
      "replica: 13\n",
      "Estimated number of clusters: 4\n",
      "Homogeneity: 1.000\n",
      "Completeness: 0.970\n",
      "V-measure: 0.985\n",
      "Adjusted Rand Index: 0.991\n",
      "Adjusted Mutual Information: 0.970\n",
      "Silhouette Coefficient: 0.619\n",
      "\n",
      "replica: 14\n",
      "Estimated number of clusters: 2\n",
      "Homogeneity: 0.582\n",
      "Completeness: 0.967\n",
      "V-measure: 0.727\n",
      "Adjusted Rand Index: 0.570\n",
      "Adjusted Mutual Information: 0.581\n",
      "Silhouette Coefficient: 0.603\n",
      "\n",
      "replica: 15\n",
      "Estimated number of clusters: 3\n",
      "Homogeneity: 0.992\n",
      "Completeness: 0.959\n",
      "V-measure: 0.976\n",
      "Adjusted Rand Index: 0.988\n",
      "Adjusted Mutual Information: 0.959\n",
      "Silhouette Coefficient: 0.758\n",
      "\n",
      "replica: 16\n",
      "Estimated number of clusters: 2\n",
      "Homogeneity: 0.579\n",
      "Completeness: 0.967\n",
      "V-measure: 0.724\n",
      "Adjusted Rand Index: 0.563\n",
      "Adjusted Mutual Information: 0.577\n",
      "Silhouette Coefficient: 0.661\n",
      "\n",
      "replica: 17\n",
      "Estimated number of clusters: 2\n",
      "Homogeneity: 0.581\n",
      "Completeness: 0.967\n",
      "V-measure: 0.726\n",
      "Adjusted Rand Index: 0.568\n",
      "Adjusted Mutual Information: 0.579\n",
      "Silhouette Coefficient: 0.480\n",
      "\n",
      "replica: 18\n",
      "Estimated number of clusters: 3\n",
      "Homogeneity: 0.576\n",
      "Completeness: 0.916\n",
      "V-measure: 0.707\n",
      "Adjusted Rand Index: 0.561\n",
      "Adjusted Mutual Information: 0.574\n",
      "Silhouette Coefficient: 0.334\n",
      "\n",
      "replica: 19\n",
      "Estimated number of clusters: 3\n",
      "Homogeneity: 0.997\n",
      "Completeness: 0.978\n",
      "V-measure: 0.988\n",
      "Adjusted Rand Index: 0.994\n",
      "Adjusted Mutual Information: 0.978\n",
      "Silhouette Coefficient: 0.758\n",
      "\n",
      "replica: 20\n",
      "Estimated number of clusters: 3\n",
      "Homogeneity: 0.575\n",
      "Completeness: 0.903\n",
      "V-measure: 0.702\n",
      "Adjusted Rand Index: 0.558\n",
      "Adjusted Mutual Information: 0.572\n",
      "Silhouette Coefficient: 0.558\n",
      "\n",
      "replica: 21\n",
      "Estimated number of clusters: 3\n",
      "Homogeneity: 0.985\n",
      "Completeness: 0.930\n",
      "V-measure: 0.957\n",
      "Adjusted Rand Index: 0.976\n",
      "Adjusted Mutual Information: 0.930\n",
      "Silhouette Coefficient: 0.793\n",
      "\n",
      "replica: 22\n",
      "Estimated number of clusters: 2\n",
      "Homogeneity: 0.579\n",
      "Completeness: 0.949\n",
      "V-measure: 0.719\n",
      "Adjusted Rand Index: 0.567\n",
      "Adjusted Mutual Information: 0.577\n",
      "Silhouette Coefficient: 0.658\n",
      "\n",
      "replica: 23\n",
      "Estimated number of clusters: 3\n",
      "Homogeneity: 0.581\n",
      "Completeness: 0.936\n",
      "V-measure: 0.717\n",
      "Adjusted Rand Index: 0.562\n",
      "Adjusted Mutual Information: 0.578\n",
      "Silhouette Coefficient: 0.364\n",
      "\n",
      "replica: 24\n",
      "Estimated number of clusters: 4\n",
      "Homogeneity: 0.995\n",
      "Completeness: 0.944\n",
      "V-measure: 0.969\n",
      "Adjusted Rand Index: 0.982\n",
      "Adjusted Mutual Information: 0.943\n",
      "Silhouette Coefficient: 0.624\n",
      "\n",
      "replica: 25\n",
      "Estimated number of clusters: 3\n",
      "Homogeneity: 1.000\n",
      "Completeness: 0.973\n",
      "V-measure: 0.987\n",
      "Adjusted Rand Index: 0.991\n",
      "Adjusted Mutual Information: 0.973\n",
      "Silhouette Coefficient: 0.691\n",
      "\n"
     ]
    }
   ],
   "source": [
    "for i in range (len(com)):\n",
    "    index=str(i)\n",
    "    com[index],labels_true=make_blobs(n_samples=(len(center_of_mass)))\n",
    "    db=DBSCAN(eps=1, min_samples=2).fit (com[index])\n",
    "    core_samples_mask = np.zeros_like(db.labels_, dtype=bool)\n",
    "    core_samples_mask[db.core_sample_indices_] = True\n",
    "    labels = db.labels_\n",
    "\n",
    "# Number of clusters in labels, ignoring noise if present.\n",
    "    n_clusters_ = len(set(labels)) - (1 if -1 in labels else 0)\n",
    "    \n",
    "    print ('replica:', index)\n",
    "    print('Estimated number of clusters: %d' % n_clusters_)\n",
    "    print(\"Homogeneity: %0.3f\" % metrics.homogeneity_score(labels_true, labels))\n",
    "    print(\"Completeness: %0.3f\" % metrics.completeness_score(labels_true, labels))\n",
    "    print(\"V-measure: %0.3f\" % metrics.v_measure_score(labels_true, labels))\n",
    "    print(\"Adjusted Rand Index: %0.3f\"\n",
    "      % metrics.adjusted_rand_score(labels_true, labels))\n",
    "    print(\"Adjusted Mutual Information: %0.3f\"\n",
    "      % metrics.adjusted_mutual_info_score(labels_true, labels))\n",
    "    print(\"Silhouette Coefficient: %0.3f\"\n",
    "      % metrics.silhouette_score(com[index], labels))\n",
    "    print ()"
   ]
  },
  {
   "cell_type": "code",
   "execution_count": 39,
   "metadata": {},
   "outputs": [
    {
     "data": {
      "image/png": "[encoded data removed]",
      "text/plain": [
       "<Figure size 432x288 with 1 Axes>"
      ]
     },
     "metadata": {},
     "output_type": "display_data"
    }
   ],
   "source": [
    "unique_labels = set(labels)\n",
    "colors = [plt.cm.Spectral(each)\n",
    "          for each in np.linspace(0, 1, len(unique_labels))]\n",
    "for k, col in zip(unique_labels, colors):\n",
    "    if k == -1:\n",
    "        # Black used for noise.\n",
    "        col = [0, 0, 0, 1]\n",
    "\n",
    "    class_member_mask = (labels == k)\n",
    "\n",
    "    xy = com[index][class_member_mask & core_samples_mask]\n",
    "    plt.plot(xy[:, 0], xy[:, 1], 'o', markerfacecolor=tuple(col),\n",
    "             markeredgecolor='k', markersize=14)\n",
    "\n",
    "    xy = com[index][class_member_mask & ~core_samples_mask]\n",
    "    plt.plot(xy[:, 0], xy[:, 1], 'o', markerfacecolor=tuple(col),\n",
    "             markeredgecolor='k', markersize=6)\n",
    "\n",
    "plt.title('Estimated number of clusters: %d' % n_clusters_)\n",
    "plt.text (1,8,'Replica: '+index, fontsize=14)\n",
    "plt.show()\n"
   ]
  },
  {
   "cell_type": "code",
   "execution_count": null,
   "metadata": {},
   "outputs": [],
   "source": []
  }
 ],
 "metadata": {
  "kernelspec": {
   "display_name": "Python 3",
   "language": "python",
   "name": "python3"
  },
  "language_info": {
   "codemirror_mode": {
    "name": "ipython",
    "version": 3
   },
   "file_extension": ".py",
   "mimetype": "text/x-python",
   "name": "python",
   "nbconvert_exporter": "python",
   "pygments_lexer": "ipython3",
   "version": "3.6.5"
  }
 },
 "nbformat": 4,
 "nbformat_minor": 2
}
