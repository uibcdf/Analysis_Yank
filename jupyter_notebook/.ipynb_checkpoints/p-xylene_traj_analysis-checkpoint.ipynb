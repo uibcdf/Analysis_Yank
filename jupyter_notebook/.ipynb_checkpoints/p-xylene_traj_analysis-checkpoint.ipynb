{
 "cells": [
  {
   "cell_type": "code",
   "execution_count": 1,
   "metadata": {},
   "outputs": [],
   "source": [
    "import yank.analyze as yk\n",
    "import matplotlib as mt\n",
    "from matplotlib import pyplot as plt\n",
    "from matplotlib import pylab\n",
    "from mpl_toolkits.mplot3d import Axes3D\n",
    "import scipy.cluster.hierarchy\n",
    "from scipy.spatial.distance import squareform\n",
    "from __future__ import print_function\n",
    "from numpy import dot, sqrt\n",
    "from numpy.linalg import eigvalsh\n",
    "#from sklearn.decomposition import PCA\n",
    "import pandas as pnd\n",
    "import mdtraj as md\n",
    "import nglview as nv\n",
    "import seaborn as sb\n",
    "import numpy as np\n",
    "import os as os"
   ]
  },
  {
   "cell_type": "code",
   "execution_count": 2,
   "metadata": {},
   "outputs": [],
   "source": [
    "# Matplotlib options\n",
    "%matplotlib inline\n",
    "mt.style.use('ggplot')\n",
    "pylab.rcParams['figure.figsize'] = 20, 12"
   ]
  },
  {
   "cell_type": "markdown",
   "metadata": {},
   "source": [
    "## Set the path for your experiment\n",
    "\n",
    "Path is the direcrtory where the file analysis.yaml and complex.nc files are located."
   ]
  },
  {
   "cell_type": "code",
   "execution_count": 3,
   "metadata": {},
   "outputs": [],
   "source": [
    "os.chdir ('/DATA/projects/Testing_Yank/binding/t4-lysozyme/p-xylene-explicit-output/experiments')"
   ]
  },
  {
   "cell_type": "markdown",
   "metadata": {},
   "source": [
    "# Save HDF5 trajectories for each replica\n",
    "\n",
    "Comment this part of the script once you saved your trajectories if you pretend to restart the kernel. Save trajectory files usually takes several time (depending on the number of the interations of your simulation). Be patient!"
   ]
  },
  {
   "cell_type": "code",
   "execution_count": null,
   "metadata": {},
   "outputs": [],
   "source": [
    "#n_replica= np.arange (25) #Replace this number with the total of replicas you have in your experiment\n",
    "#for i in n_replica:\n",
    "    #index=str(i)\n",
    "    #result= yk.extract_trajectory ('complex.nc',nc_checkpoint_file='complex_checkpoint.nc', replica_index=index, start_frame=0, end_frame=-1, keep_solvent=False)\n",
    "    #save_file= ('replica_trajectories/'+'replica_'+index+'.h5') #this line needs a replica_trajectories folder in 'experiments' path\n",
    "    #result.save_hdf5 (save_file) #save in hdf5 format, but it can be replaced by other format depending on your interest, you can check mdtraj manual for more information"
   ]
  },
  {
   "cell_type": "markdown",
   "metadata": {},
   "source": [
    "## Set the path for replica trajectory files\n",
    "This folder is the location where you saved the trajectories of the replicas of your simulation."
   ]
  },
  {
   "cell_type": "code",
   "execution_count": 4,
   "metadata": {},
   "outputs": [],
   "source": [
    "os.chdir ('/DATA/projects/Testing_Yank/binding/t4-lysozyme/p-xylene-explicit-output/experiments/replica_trajectories')"
   ]
  },
  {
   "cell_type": "markdown",
   "metadata": {},
   "source": [
    "# Allow to user select a replica to visualize"
   ]
  },
  {
   "cell_type": "code",
   "execution_count": 5,
   "metadata": {},
   "outputs": [
    {
     "name": "stdout",
     "output_type": "stream",
     "text": [
      "Insert a replica number, is a int from 0 to 24:0\n",
      "<mdtraj.Trajectory with 500 frames, 2629 atoms, 171 residues, and unitcells> number_of_replica: 0\n"
     ]
    },
    {
     "data": {
      "application/vnd.jupyter.widget-view+json": {
       "model_id": "16c29b35f42f45c08b210e9419746b8f",
       "version_major": 2,
       "version_minor": 0
      },
      "text/plain": [
       "NGLWidget(count=500)"
      ]
     },
     "metadata": {},
     "output_type": "display_data"
    }
   ],
   "source": [
    "n_replica= np.arange (25)\n",
    "for i in n_replica:\n",
    "    index=str(input('Insert a replica number, is a int from 0 to 24:'))\n",
    "    if isinstance (index, str):\n",
    "            replica=('replica_'+index+'.h5')\n",
    "            load_replica= md.load_hdf5 (replica)\n",
    "            print (load_replica, 'number_of_replica:',index)\n",
    "            break\n",
    "    else: \n",
    "            print ('This is not a valid replica number, try another')\n",
    "            \n",
    "view= nv.show_mdtraj (load_replica) #Shows the selected replica\n",
    "view.clear_representations ()\n",
    "view.add_ball_and_stick (selection='MOL', color='red', aspectRatio='10')\n",
    "view.add_cartoon (selection=\"protein\")\n",
    "view"
   ]
  },
  {
   "cell_type": "markdown",
   "metadata": {},
   "source": [
    "# Load all replicas as new variables for analysis"
   ]
  },
  {
   "cell_type": "code",
   "execution_count": 6,
   "metadata": {},
   "outputs": [],
   "source": [
    "traj={} #dictionary to create each replica as variable\n",
    "n_replica= np.arange (25)\n",
    "for i in n_replica:\n",
    "    index=str(i)\n",
    "    load=('replica_'+index+'.h5')\n",
    "    trayectories=traj['{0}'.format(i)]= md.load_hdf5 (load)"
   ]
  },
  {
   "cell_type": "code",
   "execution_count": 7,
   "metadata": {},
   "outputs": [
    {
     "data": {
      "text/plain": [
       "{'0': <mdtraj.Trajectory with 500 frames, 2629 atoms, 171 residues, and unitcells at 0x2aab29c3cc88>,\n",
       " '1': <mdtraj.Trajectory with 500 frames, 2629 atoms, 171 residues, and unitcells at 0x2aab29d12ac8>,\n",
       " '2': <mdtraj.Trajectory with 500 frames, 2629 atoms, 171 residues, and unitcells at 0x2aab29dec8d0>,\n",
       " '3': <mdtraj.Trajectory with 500 frames, 2629 atoms, 171 residues, and unitcells at 0x2aab29ec76d8>,\n",
       " '4': <mdtraj.Trajectory with 500 frames, 2629 atoms, 171 residues, and unitcells at 0x2aab29d584e0>,\n",
       " '5': <mdtraj.Trajectory with 500 frames, 2629 atoms, 171 residues, and unitcells at 0x2aab29d55438>,\n",
       " '6': <mdtraj.Trajectory with 500 frames, 2629 atoms, 171 residues, and unitcells at 0x2aab29d42240>,\n",
       " '7': <mdtraj.Trajectory with 500 frames, 2629 atoms, 171 residues, and unitcells at 0x2aab2a173fd0>,\n",
       " '8': <mdtraj.Trajectory with 500 frames, 2629 atoms, 171 residues, and unitcells at 0x2aab2a24de10>,\n",
       " '9': <mdtraj.Trajectory with 500 frames, 2629 atoms, 171 residues, and unitcells at 0x2aab2a328c18>,\n",
       " '10': <mdtraj.Trajectory with 500 frames, 2629 atoms, 171 residues, and unitcells at 0x2aab2a403a20>,\n",
       " '11': <mdtraj.Trajectory with 500 frames, 2629 atoms, 171 residues, and unitcells at 0x2aab2a4dc6d8>,\n",
       " '12': <mdtraj.Trajectory with 500 frames, 2629 atoms, 171 residues, and unitcells at 0x2aab2a5b9630>,\n",
       " '13': <mdtraj.Trajectory with 500 frames, 2629 atoms, 171 residues, and unitcells at 0x2aab299ba438>,\n",
       " '14': <mdtraj.Trajectory with 500 frames, 2629 atoms, 171 residues, and unitcells at 0x2aab29a9c240>,\n",
       " '15': <mdtraj.Trajectory with 500 frames, 2629 atoms, 171 residues, and unitcells at 0x2aab2a847fd0>,\n",
       " '16': <mdtraj.Trajectory with 500 frames, 2629 atoms, 171 residues, and unitcells at 0x2aab2a921e10>,\n",
       " '17': <mdtraj.Trajectory with 500 frames, 2629 atoms, 171 residues, and unitcells at 0x2aab2b914c18>,\n",
       " '18': <mdtraj.Trajectory with 500 frames, 2629 atoms, 171 residues, and unitcells at 0x2aab2b9ef8d0>,\n",
       " '19': <mdtraj.Trajectory with 500 frames, 2629 atoms, 171 residues, and unitcells at 0x2aab2bacb828>,\n",
       " '20': <mdtraj.Trajectory with 500 frames, 2629 atoms, 171 residues, and unitcells at 0x2aab2bba6630>,\n",
       " '21': <mdtraj.Trajectory with 500 frames, 2629 atoms, 171 residues, and unitcells at 0x2aab29b6e438>,\n",
       " '22': <mdtraj.Trajectory with 500 frames, 2629 atoms, 171 residues, and unitcells at 0x2aab2a287240>,\n",
       " '23': <mdtraj.Trajectory with 500 frames, 2629 atoms, 171 residues, and unitcells at 0x2aab2be32fd0>,\n",
       " '24': <mdtraj.Trajectory with 500 frames, 2629 atoms, 171 residues, and unitcells at 0x2aab2bf0ee10>}"
      ]
     },
     "execution_count": 7,
     "metadata": {},
     "output_type": "execute_result"
    }
   ],
   "source": [
    "traj"
   ]
  },
  {
   "cell_type": "markdown",
   "metadata": {},
   "source": [
    "## List of residues of the system\n",
    "\n",
    "Is not necesary, but it could be useful"
   ]
  },
  {
   "cell_type": "code",
   "execution_count": 8,
   "metadata": {},
   "outputs": [
    {
     "name": "stdout",
     "output_type": "stream",
     "text": [
      "List of residues in this experiment: [MET0, ASN1, ILE2, PHE3, GLU4, MET5, LEU6, ARG7, ILE8, ASP9, GLU10, GLY11, LEU12, ARG13, LEU14, LYS15, ILE16, TYR17, LYS18, ASP19, THR20, GLU21, GLY22, TYR23, TYR24, THR25, ILE26, GLY27, ILE28, GLY29, HIS30, LEU31, LEU32, THR33, LYS34, SER35, PRO36, SER37, LEU38, ASN39, ALA40, ALA41, LYS42, SER43, GLU44, LEU45, ASP46, LYS47, ALA48, ILE49, GLY50, ARG51, ASN52, THR53, ASN54, GLY55, VAL56, ILE57, THR58, LYS59, ASP60, GLU61, ALA62, GLU63, LYS64, LEU65, PHE66, ASN67, GLN68, ASP69, VAL70, ASP71, ALA72, ALA73, VAL74, ARG75, GLY76, ILE77, LEU78, ARG79, ASN80, ALA81, LYS82, LEU83, LYS84, PRO85, VAL86, TYR87, ASP88, SER89, LEU90, ASP91, ALA92, VAL93, ARG94, ARG95, ALA96, ALA97, ALA98, ILE99, ASN100, MET101, VAL102, PHE103, GLN104, MET105, GLY106, GLU107, THR108, GLY109, VAL110, ALA111, GLY112, PHE113, THR114, ASN115, SER116, LEU117, ARG118, MET119, LEU120, GLN121, GLN122, LYS123, ARG124, TRP125, ASP126, GLU127, ALA128, ALA129, VAL130, ASN131, LEU132, ALA133, LYS134, SER135, ARG136, TRP137, TYR138, ASN139, GLN140, THR141, PRO142, ASN143, ARG144, ALA145, LYS146, ARG147, VAL148, ILE149, THR150, THR151, PHE152, ARG153, THR154, GLY155, THR156, TRP157, ASP158, ALA159, TYR160, LYS161, MOL162, Cl-163, Cl-164, Cl-165, Cl-166, Cl-167, Cl-168, Cl-169, Cl-170]\n"
     ]
    }
   ],
   "source": [
    "print ('List of residues in this experiment:',[residue for residue in traj['0'].topology.residues])"
   ]
  },
  {
   "cell_type": "markdown",
   "metadata": {},
   "source": [
    "## Use the replica 0 trajectory to find ligand array\n",
    "\n",
    "Again, is not necesary, but it could be useful"
   ]
  },
  {
   "cell_type": "code",
   "execution_count": 9,
   "metadata": {},
   "outputs": [
    {
     "name": "stdout",
     "output_type": "stream",
     "text": [
      "[2603 2604 2605 2606 2607 2608 2609 2610 2611 2612 2613 2614 2615 2616\n",
      " 2617 2618 2619 2620]\n"
     ]
    }
   ],
   "source": [
    "ligand=traj['0'].topology.select ('resid 162') # ID: 162 corresponds with ligand numeration in topology of the system\n",
    "print(ligand) #Shows an array with number of atoms for the ligand"
   ]
  },
  {
   "cell_type": "markdown",
   "metadata": {},
   "source": [
    "# Define a variable for the ligand trayectory in each replica"
   ]
  },
  {
   "cell_type": "code",
   "execution_count": 10,
   "metadata": {},
   "outputs": [],
   "source": [
    "p_xylene={} #dictionary to create p-xylene trayectories for each replica\n",
    "n_replica= np.arange (25)\n",
    "for i in n_replica:\n",
    "    index=str(i)\n",
    "    load=('replica_'+index+'.h5')\n",
    "    trayectories=p_xylene['{0}'.format(i)]= md.load_hdf5 (load, atom_indices=[2603,2604,2605,2606,2607,2608,2609,2610,2611,2612,2613,2614,2615,2616,2617,2618,2619,2620])"
   ]
  },
  {
   "cell_type": "code",
   "execution_count": 11,
   "metadata": {},
   "outputs": [
    {
     "data": {
      "text/plain": [
       "{'0': <mdtraj.Trajectory with 500 frames, 18 atoms, 1 residues, and unitcells at 0x2aab2bcb8128>,\n",
       " '1': <mdtraj.Trajectory with 500 frames, 18 atoms, 1 residues, and unitcells at 0x2aab38172550>,\n",
       " '2': <mdtraj.Trajectory with 500 frames, 18 atoms, 1 residues, and unitcells at 0x2aab3824d7f0>,\n",
       " '3': <mdtraj.Trajectory with 500 frames, 18 atoms, 1 residues, and unitcells at 0x2aab38327a90>,\n",
       " '4': <mdtraj.Trajectory with 500 frames, 18 atoms, 1 residues, and unitcells at 0x2aab38402d30>,\n",
       " '5': <mdtraj.Trajectory with 500 frames, 18 atoms, 1 residues, and unitcells at 0x2aab384dffd0>,\n",
       " '6': <mdtraj.Trajectory with 500 frames, 18 atoms, 1 residues, and unitcells at 0x2aab2b94c2b0>,\n",
       " '7': <mdtraj.Trajectory with 500 frames, 18 atoms, 1 residues, and unitcells at 0x2aab38698550>,\n",
       " '8': <mdtraj.Trajectory with 500 frames, 18 atoms, 1 residues, and unitcells at 0x2aab387747f0>,\n",
       " '9': <mdtraj.Trajectory with 500 frames, 18 atoms, 1 residues, and unitcells at 0x2aab385fed30>,\n",
       " '10': <mdtraj.Trajectory with 500 frames, 18 atoms, 1 residues, and unitcells at 0x2aab3826c940>,\n",
       " '11': <mdtraj.Trajectory with 500 frames, 18 atoms, 1 residues, and unitcells at 0x2aab38418be0>,\n",
       " '12': <mdtraj.Trajectory with 500 frames, 18 atoms, 1 residues, and unitcells at 0x2aab38680e80>,\n",
       " '13': <mdtraj.Trajectory with 500 frames, 18 atoms, 1 residues, and unitcells at 0x2aab38095160>,\n",
       " '14': <mdtraj.Trajectory with 500 frames, 18 atoms, 1 residues, and unitcells at 0x2aab2b95f828>,\n",
       " '15': <mdtraj.Trajectory with 500 frames, 18 atoms, 1 residues, and unitcells at 0x2aab387a86a0>,\n",
       " '16': <mdtraj.Trajectory with 500 frames, 18 atoms, 1 residues, and unitcells at 0x2aab38066940>,\n",
       " '17': <mdtraj.Trajectory with 500 frames, 18 atoms, 1 residues, and unitcells at 0x2aab38384be0>,\n",
       " '18': <mdtraj.Trajectory with 500 frames, 18 atoms, 1 residues, and unitcells at 0x2aab38092048>,\n",
       " '19': <mdtraj.Trajectory with 500 frames, 18 atoms, 1 residues, and unitcells at 0x2aab380acd30>,\n",
       " '20': <mdtraj.Trajectory with 500 frames, 18 atoms, 1 residues, and unitcells at 0x2aab386bdfd0>,\n",
       " '21': <mdtraj.Trajectory with 500 frames, 18 atoms, 1 residues, and unitcells at 0x2aab2b9552b0>,\n",
       " '22': <mdtraj.Trajectory with 500 frames, 18 atoms, 1 residues, and unitcells at 0x2aab382a3550>,\n",
       " '23': <mdtraj.Trajectory with 500 frames, 18 atoms, 1 residues, and unitcells at 0x2aab386267f0>,\n",
       " '24': <mdtraj.Trajectory with 500 frames, 18 atoms, 1 residues, and unitcells at 0x2aab38336a90>}"
      ]
     },
     "execution_count": 11,
     "metadata": {},
     "output_type": "execute_result"
    }
   ],
   "source": [
    "p_xylene"
   ]
  },
  {
   "cell_type": "markdown",
   "metadata": {},
   "source": [
    "## Create a clustering plot for two replicas\n",
    "\n",
    "replica 1 and 25"
   ]
  },
  {
   "cell_type": "code",
   "execution_count": null,
   "metadata": {},
   "outputs": [],
   "source": [
    "distances = np.empty ((p_xylene['0'].n_frames, p_xylene['0'].n_frames))\n",
    "for i in range(p_xylene['0'].n_frames):\n",
    "    distances[i] = md.rmsd(p_xylene['0'],p_xylene['0'], i)\n",
    "print('Max pairwise rmsd: %f nm' % np.max(distances))"
   ]
  },
  {
   "cell_type": "code",
   "execution_count": null,
   "metadata": {},
   "outputs": [],
   "source": [
    "reduced_distances = squareform(distances, checks=False)\n",
    "linkage = scipy.cluster.hierarchy.linkage(reduced_distances, method='average')"
   ]
  },
  {
   "cell_type": "code",
   "execution_count": null,
   "metadata": {},
   "outputs": [],
   "source": [
    "plt.title('RMSD Average linkage hierarchical clustering')\n",
    "plot = scipy.cluster.hierarchy.dendrogram(linkage, no_labels=True, count_sort='descendent')"
   ]
  },
  {
   "cell_type": "code",
   "execution_count": null,
   "metadata": {},
   "outputs": [],
   "source": [
    "rmsd=md.rmsd (p_xylene['0'],p_xylene['0'],precentered=False)\n",
    "plt.plot(rmsd)\n",
    "plt.xlabel(\"saved frame\")\n",
    "plt.ylabel(\"RMSD (A)\")\n",
    "plt.show()"
   ]
  },
  {
   "cell_type": "code",
   "execution_count": 14,
   "metadata": {},
   "outputs": [],
   "source": [
    "position=p_xylene['0'].xyz"
   ]
  },
  {
   "cell_type": "code",
   "execution_count": 15,
   "metadata": {},
   "outputs": [
    {
     "data": {
      "text/plain": [
       "array([[3.0229375, 2.8532164, 3.0337105, 2.810849 , 3.0555432, 2.7575479,\n",
       "        3.167975 , 2.6739686, 2.8799374, 2.7974646, 3.1158104, 3.004342 ,\n",
       "        3.096343 , 3.148267 , 2.8476732, 2.890275 , 2.8597696, 2.9797425],\n",
       "       [4.6129904, 4.585464 , 4.2505035, 4.064043 , 4.1823545, 4.0504584,\n",
       "        4.1032133, 4.1108646, 4.3361907, 4.2743244, 3.9999425, 3.9959564,\n",
       "        4.3176455, 4.058499 , 4.2671003, 3.9778569, 3.7995236, 3.9689002],\n",
       "       [2.2165585, 2.1872797, 2.3500729, 2.4159398, 2.294606 , 2.3145835,\n",
       "        2.1627676, 2.407583 , 2.1925917, 2.193195 , 2.30628  , 2.354952 ,\n",
       "        1.8871232, 1.8677796, 1.84936  , 2.4917614, 2.3528562, 2.4252427]],\n",
       "      dtype=float32)"
      ]
     },
     "execution_count": 15,
     "metadata": {},
     "output_type": "execute_result"
    }
   ],
   "source": [
    "diag=position.diagonal ()\n",
    "diag"
   ]
  },
  {
   "cell_type": "code",
   "execution_count": null,
   "metadata": {},
   "outputs": [],
   "source": []
  }
 ],
 "metadata": {
  "kernelspec": {
   "display_name": "Python 3",
   "language": "python",
   "name": "python3"
  },
  "language_info": {
   "codemirror_mode": {
    "name": "ipython",
    "version": 3
   },
   "file_extension": ".py",
   "mimetype": "text/x-python",
   "name": "python",
   "nbconvert_exporter": "python",
   "pygments_lexer": "ipython3",
   "version": "3.6.5"
  }
 },
 "nbformat": 4,
 "nbformat_minor": 2
}
